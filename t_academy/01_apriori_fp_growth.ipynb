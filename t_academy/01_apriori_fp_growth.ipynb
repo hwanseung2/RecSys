{
 "cells": [
  {
   "cell_type": "code",
   "execution_count": 2,
   "metadata": {},
   "outputs": [],
   "source": [
    "import mlxtend\n",
    "import numpy as np\n",
    "import pandas as pd"
   ]
  },
  {
   "cell_type": "code",
   "execution_count": 7,
   "metadata": {},
   "outputs": [
    {
     "name": "stderr",
     "output_type": "stream",
     "text": [
      "<ipython-input-7-a0ae33e39c05>:1: VisibleDeprecationWarning: Creating an ndarray from ragged nested sequences (which is a list-or-tuple of lists-or-tuples-or ndarrays with different lengths or shapes) is deprecated. If you meant to do this, you must specify 'dtype=object' when creating the ndarray.\n",
      "  data = np.array([['우유', '기저귀', '쥬스'],['양상추', '기저귀', '맥주'],['우유', '양상추', '기저귀', '맥주'],['양상추', '맥주']])\n"
     ]
    }
   ],
   "source": [
    "data = np.array([['우유', '기저귀', '쥬스'],['양상추', '기저귀', '맥주'],['우유', '양상추', '기저귀', '맥주'],['양상추', '맥주']])"
   ]
  },
  {
   "cell_type": "code",
   "execution_count": 8,
   "metadata": {},
   "outputs": [
    {
     "data": {
      "text/plain": "array([list(['우유', '기저귀', '쥬스']), list(['양상추', '기저귀', '맥주']),\n       list(['우유', '양상추', '기저귀', '맥주']), list(['양상추', '맥주'])],\n      dtype=object)"
     },
     "execution_count": 8,
     "metadata": {},
     "output_type": "execute_result"
    }
   ],
   "source": [
    "data"
   ]
  },
  {
   "cell_type": "code",
   "execution_count": 21,
   "metadata": {},
   "outputs": [
    {
     "data": {
      "text/html": "<div>\n<style scoped>\n    .dataframe tbody tr th:only-of-type {\n        vertical-align: middle;\n    }\n\n    .dataframe tbody tr th {\n        vertical-align: top;\n    }\n\n    .dataframe thead th {\n        text-align: right;\n    }\n</style>\n<table border=\"1\" class=\"dataframe\">\n  <thead>\n    <tr style=\"text-align: right;\">\n      <th></th>\n      <th>기저귀</th>\n      <th>맥주</th>\n      <th>양상추</th>\n      <th>우유</th>\n      <th>쥬스</th>\n    </tr>\n  </thead>\n  <tbody>\n    <tr>\n      <th>0</th>\n      <td>True</td>\n      <td>False</td>\n      <td>False</td>\n      <td>True</td>\n      <td>True</td>\n    </tr>\n    <tr>\n      <th>1</th>\n      <td>True</td>\n      <td>True</td>\n      <td>True</td>\n      <td>False</td>\n      <td>False</td>\n    </tr>\n    <tr>\n      <th>2</th>\n      <td>True</td>\n      <td>True</td>\n      <td>True</td>\n      <td>True</td>\n      <td>False</td>\n    </tr>\n    <tr>\n      <th>3</th>\n      <td>False</td>\n      <td>True</td>\n      <td>True</td>\n      <td>False</td>\n      <td>False</td>\n    </tr>\n  </tbody>\n</table>\n</div>",
      "text/plain": "     기저귀     맥주    양상추     우유     쥬스\n0   True  False  False   True   True\n1   True   True   True  False  False\n2   True   True   True   True  False\n3  False   True   True  False  False"
     },
     "execution_count": 21,
     "metadata": {},
     "output_type": "execute_result"
    }
   ],
   "source": [
    "from mlxtend.preprocessing import TransactionEncoder\n",
    "te = TransactionEncoder()\n",
    "te_ary = te.fit(data).transform(data)\n",
    "df = pd.DataFrame(te_ary, columns=te.columns_)\n",
    "df"
   ]
  },
  {
   "cell_type": "code",
   "execution_count": 22,
   "metadata": {},
   "outputs": [
    {
     "data": {
      "text/html": "<div>\n<style scoped>\n    .dataframe tbody tr th:only-of-type {\n        vertical-align: middle;\n    }\n\n    .dataframe tbody tr th {\n        vertical-align: top;\n    }\n\n    .dataframe thead th {\n        text-align: right;\n    }\n</style>\n<table border=\"1\" class=\"dataframe\">\n  <thead>\n    <tr style=\"text-align: right;\">\n      <th></th>\n      <th>기저귀</th>\n      <th>맥주</th>\n      <th>양상추</th>\n      <th>우유</th>\n      <th>쥬스</th>\n    </tr>\n  </thead>\n  <tbody>\n    <tr>\n      <th>0</th>\n      <td>True</td>\n      <td>False</td>\n      <td>False</td>\n      <td>True</td>\n      <td>True</td>\n    </tr>\n    <tr>\n      <th>1</th>\n      <td>True</td>\n      <td>True</td>\n      <td>True</td>\n      <td>False</td>\n      <td>False</td>\n    </tr>\n    <tr>\n      <th>2</th>\n      <td>True</td>\n      <td>True</td>\n      <td>True</td>\n      <td>True</td>\n      <td>False</td>\n    </tr>\n    <tr>\n      <th>3</th>\n      <td>False</td>\n      <td>True</td>\n      <td>True</td>\n      <td>False</td>\n      <td>False</td>\n    </tr>\n  </tbody>\n</table>\n</div>",
      "text/plain": "     기저귀     맥주    양상추     우유     쥬스\n0   True  False  False   True   True\n1   True   True   True  False  False\n2   True   True   True   True  False\n3  False   True   True  False  False"
     },
     "execution_count": 22,
     "metadata": {},
     "output_type": "execute_result"
    }
   ],
   "source": [
    "\n",
    "df = pd.DataFrame(te_ary, columns=te.columns_)\n",
    "df"
   ]
  },
  {
   "cell_type": "code",
   "execution_count": 35,
   "metadata": {},
   "outputs": [
    {
     "name": "stdout",
     "output_type": "stream",
     "text": [
      "CPU times: user 5.96 ms, sys: 657 µs, total: 6.62 ms\n",
      "Wall time: 6.23 ms\n"
     ]
    },
    {
     "data": {
      "text/html": "<div>\n<style scoped>\n    .dataframe tbody tr th:only-of-type {\n        vertical-align: middle;\n    }\n\n    .dataframe tbody tr th {\n        vertical-align: top;\n    }\n\n    .dataframe thead th {\n        text-align: right;\n    }\n</style>\n<table border=\"1\" class=\"dataframe\">\n  <thead>\n    <tr style=\"text-align: right;\">\n      <th></th>\n      <th>support</th>\n      <th>itemsets</th>\n    </tr>\n  </thead>\n  <tbody>\n    <tr>\n      <th>0</th>\n      <td>0.75</td>\n      <td>(기저귀)</td>\n    </tr>\n    <tr>\n      <th>1</th>\n      <td>0.75</td>\n      <td>(맥주)</td>\n    </tr>\n    <tr>\n      <th>2</th>\n      <td>0.75</td>\n      <td>(양상추)</td>\n    </tr>\n    <tr>\n      <th>3</th>\n      <td>0.50</td>\n      <td>(우유)</td>\n    </tr>\n    <tr>\n      <th>4</th>\n      <td>0.50</td>\n      <td>(맥주, 기저귀)</td>\n    </tr>\n    <tr>\n      <th>5</th>\n      <td>0.50</td>\n      <td>(양상추, 기저귀)</td>\n    </tr>\n    <tr>\n      <th>6</th>\n      <td>0.50</td>\n      <td>(우유, 기저귀)</td>\n    </tr>\n    <tr>\n      <th>7</th>\n      <td>0.75</td>\n      <td>(양상추, 맥주)</td>\n    </tr>\n    <tr>\n      <th>8</th>\n      <td>0.50</td>\n      <td>(양상추, 맥주, 기저귀)</td>\n    </tr>\n  </tbody>\n</table>\n</div>",
      "text/plain": "   support        itemsets\n0     0.75           (기저귀)\n1     0.75            (맥주)\n2     0.75           (양상추)\n3     0.50            (우유)\n4     0.50       (맥주, 기저귀)\n5     0.50      (양상추, 기저귀)\n6     0.50       (우유, 기저귀)\n7     0.75       (양상추, 맥주)\n8     0.50  (양상추, 맥주, 기저귀)"
     },
     "execution_count": 35,
     "metadata": {},
     "output_type": "execute_result"
    }
   ],
   "source": [
    "%%time\n",
    "from mlxtend.frequent_patterns import apriori\n",
    "apriori(df, min_support = 0.5, use_colnames = True)"
   ]
  },
  {
   "cell_type": "code",
   "execution_count": 30,
   "metadata": {},
   "outputs": [],
   "source": [
    "from mlxtend.preprocessing import TransactionEncoder\n",
    "te = TransactionEncoder()\n",
    "te_ary = te.fit(data).transform(data)\n",
    "df = pd.DataFrame(te_ary, columns = te.columns_)"
   ]
  },
  {
   "cell_type": "code",
   "execution_count": 31,
   "metadata": {},
   "outputs": [
    {
     "data": {
      "text/html": "<div>\n<style scoped>\n    .dataframe tbody tr th:only-of-type {\n        vertical-align: middle;\n    }\n\n    .dataframe tbody tr th {\n        vertical-align: top;\n    }\n\n    .dataframe thead th {\n        text-align: right;\n    }\n</style>\n<table border=\"1\" class=\"dataframe\">\n  <thead>\n    <tr style=\"text-align: right;\">\n      <th></th>\n      <th>기저귀</th>\n      <th>맥주</th>\n      <th>양상추</th>\n      <th>우유</th>\n      <th>쥬스</th>\n    </tr>\n  </thead>\n  <tbody>\n    <tr>\n      <th>0</th>\n      <td>True</td>\n      <td>False</td>\n      <td>False</td>\n      <td>True</td>\n      <td>True</td>\n    </tr>\n    <tr>\n      <th>1</th>\n      <td>True</td>\n      <td>True</td>\n      <td>True</td>\n      <td>False</td>\n      <td>False</td>\n    </tr>\n    <tr>\n      <th>2</th>\n      <td>True</td>\n      <td>True</td>\n      <td>True</td>\n      <td>True</td>\n      <td>False</td>\n    </tr>\n    <tr>\n      <th>3</th>\n      <td>False</td>\n      <td>True</td>\n      <td>True</td>\n      <td>False</td>\n      <td>False</td>\n    </tr>\n  </tbody>\n</table>\n</div>",
      "text/plain": "     기저귀     맥주    양상추     우유     쥬스\n0   True  False  False   True   True\n1   True   True   True  False  False\n2   True   True   True   True  False\n3  False   True   True  False  False"
     },
     "execution_count": 31,
     "metadata": {},
     "output_type": "execute_result"
    }
   ],
   "source": [
    "df"
   ]
  },
  {
   "cell_type": "code",
   "execution_count": 36,
   "metadata": {},
   "outputs": [
    {
     "name": "stdout",
     "output_type": "stream",
     "text": [
      "CPU times: user 2.47 ms, sys: 122 µs, total: 2.59 ms\n",
      "Wall time: 2.68 ms\n"
     ]
    },
    {
     "data": {
      "text/html": "<div>\n<style scoped>\n    .dataframe tbody tr th:only-of-type {\n        vertical-align: middle;\n    }\n\n    .dataframe tbody tr th {\n        vertical-align: top;\n    }\n\n    .dataframe thead th {\n        text-align: right;\n    }\n</style>\n<table border=\"1\" class=\"dataframe\">\n  <thead>\n    <tr style=\"text-align: right;\">\n      <th></th>\n      <th>support</th>\n      <th>itemsets</th>\n    </tr>\n  </thead>\n  <tbody>\n    <tr>\n      <th>0</th>\n      <td>0.75</td>\n      <td>(기저귀)</td>\n    </tr>\n    <tr>\n      <th>1</th>\n      <td>0.50</td>\n      <td>(우유)</td>\n    </tr>\n    <tr>\n      <th>2</th>\n      <td>0.75</td>\n      <td>(양상추)</td>\n    </tr>\n    <tr>\n      <th>3</th>\n      <td>0.75</td>\n      <td>(맥주)</td>\n    </tr>\n    <tr>\n      <th>4</th>\n      <td>0.50</td>\n      <td>(맥주, 기저귀)</td>\n    </tr>\n    <tr>\n      <th>5</th>\n      <td>0.50</td>\n      <td>(양상추, 기저귀)</td>\n    </tr>\n    <tr>\n      <th>6</th>\n      <td>0.50</td>\n      <td>(양상추, 맥주, 기저귀)</td>\n    </tr>\n    <tr>\n      <th>7</th>\n      <td>0.50</td>\n      <td>(우유, 기저귀)</td>\n    </tr>\n    <tr>\n      <th>8</th>\n      <td>0.75</td>\n      <td>(양상추, 맥주)</td>\n    </tr>\n  </tbody>\n</table>\n</div>",
      "text/plain": "   support        itemsets\n0     0.75           (기저귀)\n1     0.50            (우유)\n2     0.75           (양상추)\n3     0.75            (맥주)\n4     0.50       (맥주, 기저귀)\n5     0.50      (양상추, 기저귀)\n6     0.50  (양상추, 맥주, 기저귀)\n7     0.50       (우유, 기저귀)\n8     0.75       (양상추, 맥주)"
     },
     "execution_count": 36,
     "metadata": {},
     "output_type": "execute_result"
    }
   ],
   "source": [
    "%%time\n",
    "from mlxtend.frequent_patterns import fpgrowth, association_rules\n",
    "fpgrowth(df, min_support = 0.5, use_colnames = True)"
   ]
  },
  {
   "cell_type": "code",
   "execution_count": 38,
   "metadata": {},
   "outputs": [
    {
     "data": {
      "text/html": "<div>\n<style scoped>\n    .dataframe tbody tr th:only-of-type {\n        vertical-align: middle;\n    }\n\n    .dataframe tbody tr th {\n        vertical-align: top;\n    }\n\n    .dataframe thead th {\n        text-align: right;\n    }\n</style>\n<table border=\"1\" class=\"dataframe\">\n  <thead>\n    <tr style=\"text-align: right;\">\n      <th></th>\n      <th>antecedents</th>\n      <th>consequents</th>\n      <th>antecedent support</th>\n      <th>consequent support</th>\n      <th>support</th>\n      <th>confidence</th>\n      <th>lift</th>\n      <th>leverage</th>\n      <th>conviction</th>\n    </tr>\n  </thead>\n  <tbody>\n    <tr>\n      <th>0</th>\n      <td>(맥주)</td>\n      <td>(기저귀)</td>\n      <td>0.75</td>\n      <td>0.75</td>\n      <td>0.50</td>\n      <td>0.666667</td>\n      <td>0.888889</td>\n      <td>-0.0625</td>\n      <td>0.75</td>\n    </tr>\n    <tr>\n      <th>1</th>\n      <td>(기저귀)</td>\n      <td>(맥주)</td>\n      <td>0.75</td>\n      <td>0.75</td>\n      <td>0.50</td>\n      <td>0.666667</td>\n      <td>0.888889</td>\n      <td>-0.0625</td>\n      <td>0.75</td>\n    </tr>\n    <tr>\n      <th>2</th>\n      <td>(양상추)</td>\n      <td>(기저귀)</td>\n      <td>0.75</td>\n      <td>0.75</td>\n      <td>0.50</td>\n      <td>0.666667</td>\n      <td>0.888889</td>\n      <td>-0.0625</td>\n      <td>0.75</td>\n    </tr>\n    <tr>\n      <th>3</th>\n      <td>(기저귀)</td>\n      <td>(양상추)</td>\n      <td>0.75</td>\n      <td>0.75</td>\n      <td>0.50</td>\n      <td>0.666667</td>\n      <td>0.888889</td>\n      <td>-0.0625</td>\n      <td>0.75</td>\n    </tr>\n    <tr>\n      <th>4</th>\n      <td>(양상추, 맥주)</td>\n      <td>(기저귀)</td>\n      <td>0.75</td>\n      <td>0.75</td>\n      <td>0.50</td>\n      <td>0.666667</td>\n      <td>0.888889</td>\n      <td>-0.0625</td>\n      <td>0.75</td>\n    </tr>\n    <tr>\n      <th>5</th>\n      <td>(양상추, 기저귀)</td>\n      <td>(맥주)</td>\n      <td>0.50</td>\n      <td>0.75</td>\n      <td>0.50</td>\n      <td>1.000000</td>\n      <td>1.333333</td>\n      <td>0.1250</td>\n      <td>inf</td>\n    </tr>\n    <tr>\n      <th>6</th>\n      <td>(맥주, 기저귀)</td>\n      <td>(양상추)</td>\n      <td>0.50</td>\n      <td>0.75</td>\n      <td>0.50</td>\n      <td>1.000000</td>\n      <td>1.333333</td>\n      <td>0.1250</td>\n      <td>inf</td>\n    </tr>\n    <tr>\n      <th>7</th>\n      <td>(양상추)</td>\n      <td>(맥주, 기저귀)</td>\n      <td>0.75</td>\n      <td>0.50</td>\n      <td>0.50</td>\n      <td>0.666667</td>\n      <td>1.333333</td>\n      <td>0.1250</td>\n      <td>1.50</td>\n    </tr>\n    <tr>\n      <th>8</th>\n      <td>(맥주)</td>\n      <td>(양상추, 기저귀)</td>\n      <td>0.75</td>\n      <td>0.50</td>\n      <td>0.50</td>\n      <td>0.666667</td>\n      <td>1.333333</td>\n      <td>0.1250</td>\n      <td>1.50</td>\n    </tr>\n    <tr>\n      <th>9</th>\n      <td>(기저귀)</td>\n      <td>(양상추, 맥주)</td>\n      <td>0.75</td>\n      <td>0.75</td>\n      <td>0.50</td>\n      <td>0.666667</td>\n      <td>0.888889</td>\n      <td>-0.0625</td>\n      <td>0.75</td>\n    </tr>\n    <tr>\n      <th>10</th>\n      <td>(우유)</td>\n      <td>(기저귀)</td>\n      <td>0.50</td>\n      <td>0.75</td>\n      <td>0.50</td>\n      <td>1.000000</td>\n      <td>1.333333</td>\n      <td>0.1250</td>\n      <td>inf</td>\n    </tr>\n    <tr>\n      <th>11</th>\n      <td>(기저귀)</td>\n      <td>(우유)</td>\n      <td>0.75</td>\n      <td>0.50</td>\n      <td>0.50</td>\n      <td>0.666667</td>\n      <td>1.333333</td>\n      <td>0.1250</td>\n      <td>1.50</td>\n    </tr>\n    <tr>\n      <th>12</th>\n      <td>(양상추)</td>\n      <td>(맥주)</td>\n      <td>0.75</td>\n      <td>0.75</td>\n      <td>0.75</td>\n      <td>1.000000</td>\n      <td>1.333333</td>\n      <td>0.1875</td>\n      <td>inf</td>\n    </tr>\n    <tr>\n      <th>13</th>\n      <td>(맥주)</td>\n      <td>(양상추)</td>\n      <td>0.75</td>\n      <td>0.75</td>\n      <td>0.75</td>\n      <td>1.000000</td>\n      <td>1.333333</td>\n      <td>0.1875</td>\n      <td>inf</td>\n    </tr>\n  </tbody>\n</table>\n</div>",
      "text/plain": "   antecedents consequents  antecedent support  consequent support  support  \\\n0         (맥주)       (기저귀)                0.75                0.75     0.50   \n1        (기저귀)        (맥주)                0.75                0.75     0.50   \n2        (양상추)       (기저귀)                0.75                0.75     0.50   \n3        (기저귀)       (양상추)                0.75                0.75     0.50   \n4    (양상추, 맥주)       (기저귀)                0.75                0.75     0.50   \n5   (양상추, 기저귀)        (맥주)                0.50                0.75     0.50   \n6    (맥주, 기저귀)       (양상추)                0.50                0.75     0.50   \n7        (양상추)   (맥주, 기저귀)                0.75                0.50     0.50   \n8         (맥주)  (양상추, 기저귀)                0.75                0.50     0.50   \n9        (기저귀)   (양상추, 맥주)                0.75                0.75     0.50   \n10        (우유)       (기저귀)                0.50                0.75     0.50   \n11       (기저귀)        (우유)                0.75                0.50     0.50   \n12       (양상추)        (맥주)                0.75                0.75     0.75   \n13        (맥주)       (양상추)                0.75                0.75     0.75   \n\n    confidence      lift  leverage  conviction  \n0     0.666667  0.888889   -0.0625        0.75  \n1     0.666667  0.888889   -0.0625        0.75  \n2     0.666667  0.888889   -0.0625        0.75  \n3     0.666667  0.888889   -0.0625        0.75  \n4     0.666667  0.888889   -0.0625        0.75  \n5     1.000000  1.333333    0.1250         inf  \n6     1.000000  1.333333    0.1250         inf  \n7     0.666667  1.333333    0.1250        1.50  \n8     0.666667  1.333333    0.1250        1.50  \n9     0.666667  0.888889   -0.0625        0.75  \n10    1.000000  1.333333    0.1250         inf  \n11    0.666667  1.333333    0.1250        1.50  \n12    1.000000  1.333333    0.1875         inf  \n13    1.000000  1.333333    0.1875         inf  "
     },
     "execution_count": 38,
     "metadata": {},
     "output_type": "execute_result"
    }
   ],
   "source": [
    "association_rules(fpgrowth(df, min_support = 0.5, use_colnames = True), metric = 'confidence', min_threshold = 0.5,\\\n",
    "    support_only = False)"
   ]
  },
  {
   "cell_type": "markdown",
   "metadata": {},
   "source": [
    "> 실제에서 이런 apriori, fp-growth 알고리즘을 많이 사용하나요?, 이 알고리즘은 컨텐츠 기반 필터링, 협업 피러링 둘 다 해당하지 않는 것 같은데 맞나요?\n",
    "\n",
    "> rule 기반의 알고리즘. 단점이 뚜렷. 메모리와 시간을 너무 많이 잡아 먹음. 생성된 규칙이 너무 많아서 적용하기 어려움. apriori는 데이터셋의 의미 정도 파악할 때 잠시 사용하는 느낌"
   ]
  },
  {
   "cell_type": "markdown",
   "metadata": {},
   "source": []
  }
 ],
 "metadata": {
  "kernelspec": {
   "display_name": "Python 3",
   "name": "python3"
  },
  "language_info": {
   "codemirror_mode": {
    "name": "ipython",
    "version": 3
   },
   "file_extension": ".py",
   "mimetype": "text/x-python",
   "name": "python",
   "nbconvert_exporter": "python",
   "pygments_lexer": "ipython3",
   "version": "3.8.8"
  },
  "orig_nbformat": 2
 },
 "nbformat": 4,
 "nbformat_minor": 2
}